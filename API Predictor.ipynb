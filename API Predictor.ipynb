{
 "cells": [
  {
   "cell_type": "code",
   "execution_count": 1,
   "metadata": {},
   "outputs": [
    {
     "name": "stdout",
     "output_type": "stream",
     "text": [
      "Preparado!!\n"
     ]
    }
   ],
   "source": [
    "import os\n",
    "import datetime\n",
    "# cambiamos las variables del sistema\n",
    "spark = 'C:\\\\hlocal\\\\tdm\\\\spark\\\\hadoop\\\\spark-2.3.2-bin-hadoop2.7'\n",
    "# en el path se añade\n",
    "path = os.environ.get('PATH') \n",
    "path = path+ ';'+spark+'\\\\bin;'\n",
    "os.environ['PATH'] = path\n",
    "os.environ['SPARK_HOME']= spark \n",
    "os.environ['HADOOP_HOME']= spark \n",
    "os.environ['PYSPARK_DRIVER_PYTHON']= 'jupyter'\n",
    "os.environ['PYSPARK_DRIVER_PYTHON_OPTS']='notebook'\n",
    "\n",
    "# si da problema con collect quizás haya que poner java_home\n",
    "#os.environ['JAVA_HOME']= 'C:\\\\Program Files\\\\Java\\\\jdk1.8.0_151'\n",
    "#labs = 'C:\\\\JDK\\\\jdk8-64bits'\n",
    "#os.environ['JAVA_HOME']= labs\n",
    "#os.environ['PATH'] = os.environ.get('JAVA_HOME')+'\\\\bin;'+path\n",
    "\n",
    "\n",
    "import findspark\n",
    "findspark.init()\n",
    "\n",
    "import pyspark # only run after findspark.init()\n",
    "from pyspark.sql import SparkSession\n",
    "spark = SparkSession.builder.getOrCreate()\n",
    "sc = spark.sparkContext\n",
    "from pyspark.sql import Row\n",
    "from pyspark.ml.regression import LinearRegressionModel\n",
    "from pyspark.ml.feature import VectorAssembler\n",
    "modelo = LinearRegressionModel.load(\"modelo\")\n",
    "print(\"Preparado!!\")"
   ]
  },
  {
   "cell_type": "code",
   "execution_count": 6,
   "metadata": {},
   "outputs": [],
   "source": [
    "#calle=\"Paseo La Castellana\"\n",
    "#fecha=\"31/05/19 20:02\"\n",
    "\n",
    "\n",
    "\n",
    "def pred(calle,fecha):\n",
    "    encabezados=[]\n",
    "    encabezados2=[]\n",
    "\n",
    "\n",
    "    fecha = datetime.datetime.strptime(fecha, '%d/%m/%y %H:%M')\n",
    "    valores=[]\n",
    "    horaactual=fecha.hour\n",
    "    diaactual=fecha.weekday()\n",
    "    dias=['L','M','X','J','V','S','D']\n",
    "    for i in range(7):\n",
    "        encabezados.append(dias[i])\n",
    "        if(diaactual==i):\n",
    "            valores.append(1)\n",
    "        else:\n",
    "            valores.append(0)\n",
    "    for i in range(24):\n",
    "        encabezados.append(\"hora_\"+str(i))\n",
    "        if(horaactual==i):\n",
    "            valores.append(1)\n",
    "        else:\n",
    "            valores.append(0)\n",
    "    encabezados.append(\"traficoactual\")\n",
    "    for i in range(len(encabezados)-1):\n",
    "        encabezados2.append(encabezados[i])\n",
    "\n",
    "    valores.append(0)\n",
    "    valores2=[]\n",
    "    valores2.append(valores)\n",
    "    valoresrdd=sc.parallelize(valores2)\n",
    "    valoresrdd.take(1)\n",
    "    assembler = VectorAssembler(\n",
    "            inputCols=encabezados2,\n",
    "            outputCol='features')\n",
    "    row_data = valoresrdd.map(lambda p: Row(\n",
    "        hora_0=p[0],\n",
    "        hora_1=p[1],\n",
    "        hora_2=p[2],\n",
    "        hora_3=p[3],\n",
    "        hora_4=p[4],\n",
    "        hora_5=p[5],\n",
    "        hora_6=p[6],\n",
    "        hora_7=p[7],\n",
    "        hora_8=p[8],\n",
    "        hora_9=p[9],\n",
    "        hora_10=p[10],\n",
    "        hora_11=p[11],\n",
    "        hora_12=p[12],\n",
    "        hora_13=p[13],\n",
    "        hora_14=p[14],\n",
    "        hora_15=p[15],\n",
    "        hora_16=p[16],\n",
    "        hora_17=p[17],\n",
    "        hora_18=p[18],\n",
    "        hora_19=p[19],\n",
    "        hora_20=p[20],\n",
    "        hora_21=p[21],\n",
    "        hora_22=p[22],\n",
    "        hora_23=p[23],\n",
    "        L=p[24],\n",
    "        M=p[25],\n",
    "        X=p[26],\n",
    "        J=p[27],\n",
    "        V=p[28],\n",
    "        S=p[29],\n",
    "        D=p[30],\n",
    "        traficoactual=p[31]\n",
    "    ))\n",
    "\n",
    "    row_data.take(1)\n",
    "    valores_df = spark.createDataFrame(row_data)\n",
    "    #valores_df.show()\n",
    "    #valores_df.printSchema()\n",
    "    #valores_df.describe().toPandas().transpose()\n",
    "    datosprep =  assembler.transform(valores_df)\n",
    "    datosprep = datosprep.select(['traficoactual','features'])\n",
    "    prediccion=modelo.transform(datosprep)\n",
    "    prediccionv=prediccion.select(\"prediction\").take(1)[0].prediction\n",
    "    etiquetastrafico=['Bajo', 'Medio','Alto']\n",
    "    valorestrafico=[3, 10, 20]\n",
    "\n",
    "    for i in range(len(valorestrafico)):\n",
    "            if(valorestrafico[i]>prediccionv):\n",
    "                etiqueta=etiquetastrafico[i]\n",
    "                break\n",
    "    return etiqueta"
   ]
  },
  {
   "cell_type": "code",
   "execution_count": null,
   "metadata": {},
   "outputs": [
    {
     "name": "stdout",
     "output_type": "stream",
     "text": [
      " * Serving Flask app \"__main__\" (lazy loading)\n",
      " * Environment: production\n",
      "   WARNING: Do not use the development server in a production environment.\n",
      "   Use a production WSGI server instead.\n",
      " * Debug mode: off\n"
     ]
    },
    {
     "name": "stderr",
     "output_type": "stream",
     "text": [
      " * Running on http://0.0.0.0:50002/ (Press CTRL+C to quit)\n",
      "127.0.0.1 - - [01/Sep/2019 14:41:49] \"\u001b[37mGET /prediccion?calle=Paseo%20La%20Castellana&fecha=31/08/19%2020:00 HTTP/1.1\u001b[0m\" 200 -\n"
     ]
    }
   ],
   "source": [
    "from flask import Flask, request\n",
    "from flask import Response\n",
    "from flask import jsonify # <- `jsonify` instead of `json`\n",
    "app = Flask(__name__)\n",
    "puerto=50002\n",
    "@app.route('/prediccion', methods = ['GET'])\n",
    "def obtenerprediccion():\n",
    "    calle=request.args.get('calle')\n",
    "    fecha=request.args.get('fecha')\n",
    "    return jsonify({\"calle\":calle,\"fecha\":fecha,\"prediccion\":pred(calle,fecha)}), 200\n",
    "if __name__ == '__main__':\n",
    "     app.run(port=puerto,host='0.0.0.0')"
   ]
  },
  {
   "cell_type": "code",
   "execution_count": 4,
   "metadata": {},
   "outputs": [],
   "source": []
  },
  {
   "cell_type": "code",
   "execution_count": null,
   "metadata": {},
   "outputs": [],
   "source": []
  }
 ],
 "metadata": {
  "kernelspec": {
   "display_name": "Python 3",
   "language": "python",
   "name": "python3"
  },
  "language_info": {
   "codemirror_mode": {
    "name": "ipython",
    "version": 3
   },
   "file_extension": ".py",
   "mimetype": "text/x-python",
   "name": "python",
   "nbconvert_exporter": "python",
   "pygments_lexer": "ipython3",
   "version": "3.7.1"
  }
 },
 "nbformat": 4,
 "nbformat_minor": 2
}
